{
 "cells": [
  {
   "cell_type": "code",
   "execution_count": 1,
   "metadata": {},
   "outputs": [],
   "source": [
    "#In this code, I will be trying to improve the KNN accuracy score that I got without any feature engineering or model optimization.\n",
    "#The accuracy score to beat is 0.886.\n",
    "\n",
    "import pandas as pd\n",
    "import numpy as np\n",
    "import matplotlib.pyplot as plt\n",
    "import seaborn as sns\n",
    "from sklearn.model_selection import train_test_split\n",
    "from sklearn.metrics import accuracy_score\n",
    "from sklearn.preprocessing import StandardScaler\n",
    "from sklearn.neighbors import KNeighborsClassifier\n",
    "from sklearn.model_selection import GridSearchCV"
   ]
  },
  {
   "cell_type": "code",
   "execution_count": 2,
   "metadata": {},
   "outputs": [],
   "source": [
    "from statsmodels.genmod.generalized_linear_model import GLM\n",
    "from statsmodels.genmod import families"
   ]
  },
  {
   "cell_type": "code",
   "execution_count": 3,
   "metadata": {},
   "outputs": [],
   "source": [
    "df = pd.read_csv('cleaned_wine_data.csv')\n",
    "df.drop(['Unnamed: 0'], axis=1, inplace=True)"
   ]
  },
  {
   "cell_type": "code",
   "execution_count": 4,
   "metadata": {},
   "outputs": [],
   "source": [
    "X_stat = df.drop(['quality'], axis=1)\n",
    "Y_stat = df['quality']"
   ]
  },
  {
   "cell_type": "code",
   "execution_count": 5,
   "metadata": {},
   "outputs": [
    {
     "name": "stdout",
     "output_type": "stream",
     "text": [
      "                 Generalized Linear Model Regression Results                  \n",
      "==============================================================================\n",
      "Dep. Variable:                quality   No. Observations:                 1357\n",
      "Model:                            GLM   Df Residuals:                     1346\n",
      "Model Family:                Binomial   Df Model:                           10\n",
      "Link Function:                  Logit   Scale:                          1.0000\n",
      "Method:                          IRLS   Log-Likelihood:                -362.88\n",
      "Date:                Thu, 18 Jul 2024   Deviance:                       725.75\n",
      "Time:                        14:17:51   Pearson chi2:                 1.09e+03\n",
      "No. Iterations:                     7   Pseudo R-squ. (CS):             0.2239\n",
      "Covariance Type:            nonrobust                                         \n",
      "========================================================================================\n",
      "                           coef    std err          z      P>|z|      [0.025      0.975]\n",
      "----------------------------------------------------------------------------------------\n",
      "fixed acidity            0.1073      0.091      1.175      0.240      -0.072       0.286\n",
      "volatile acidity        -3.4792      0.857     -4.058      0.000      -5.160      -1.799\n",
      "citric acid             -0.6131      0.933     -0.657      0.511      -2.442       1.215\n",
      "residual sugar           0.1127      0.075      1.494      0.135      -0.035       0.261\n",
      "chlorides               -7.9636      3.340     -2.384      0.017     -14.510      -1.417\n",
      "free sulfur dioxide      0.0226      0.014      1.580      0.114      -0.005       0.051\n",
      "total sulfur dioxide    -0.0272      0.007     -4.168      0.000      -0.040      -0.014\n",
      "density                -11.2721      3.796     -2.970      0.003     -18.712      -3.832\n",
      "pH                      -0.6035      0.968     -0.623      0.533      -2.501       1.294\n",
      "sulphates                4.0422      0.600      6.733      0.000       2.866       5.219\n",
      "alcohol                  0.9637      0.099      9.709      0.000       0.769       1.158\n",
      "========================================================================================\n"
     ]
    }
   ],
   "source": [
    "#Checking to see which features are statistically significant (p < 0.001)\n",
    "\n",
    "stats = GLM(Y_stat, X_stat, family=families.Binomial()).fit()\n",
    "print(stats.summary())"
   ]
  },
  {
   "cell_type": "code",
   "execution_count": 6,
   "metadata": {},
   "outputs": [],
   "source": [
    "#Setting out predictors to be only the statistically significant features.\n",
    "\n",
    "sig_ft = ['volatile acidity','total sulfur dioxide','sulphates','alcohol']\n",
    "\n",
    "X = df[sig_ft]\n",
    "Y = df['quality']\n",
    "\n",
    "scaler = StandardScaler()\n",
    "X = scaler.fit_transform(X)"
   ]
  },
  {
   "cell_type": "code",
   "execution_count": 7,
   "metadata": {},
   "outputs": [],
   "source": [
    "X_train, X_test, Y_train, Y_test = train_test_split(X, Y, random_state=42, test_size=0.2)"
   ]
  },
  {
   "cell_type": "code",
   "execution_count": 8,
   "metadata": {},
   "outputs": [],
   "source": [
    "def modelaccuracy(model):\n",
    "    model.fit(X_train, Y_train)\n",
    "    result = accuracy_score(Y_test, (model.predict(X_test)))\n",
    "    print(f'Model Accuracy is {result}')"
   ]
  },
  {
   "cell_type": "code",
   "execution_count": 9,
   "metadata": {},
   "outputs": [
    {
     "name": "stdout",
     "output_type": "stream",
     "text": [
      "Model Accuracy is 0.8933823529411765\n"
     ]
    }
   ],
   "source": [
    "#With only significant features, we improved our accuracy slightly.\n",
    "\n",
    "knn = KNeighborsClassifier()\n",
    "\n",
    "modelaccuracy(knn)"
   ]
  },
  {
   "cell_type": "code",
   "execution_count": 10,
   "metadata": {},
   "outputs": [
    {
     "name": "stdout",
     "output_type": "stream",
     "text": [
      "Model Accuracy is 0.9044117647058824\n"
     ]
    }
   ],
   "source": [
    "#Using GSV, we were able to improve the model slightly more. Overall improved accuracy score by ~0.018.\n",
    "\n",
    "knn_param = {'n_neighbors':[10, 12, 14, 16, 18, 20, 22, 24, 26, 28, 30]}\n",
    "knn_grid_serach = GridSearchCV(knn, knn_param)\n",
    "\n",
    "knn_grid_serach.fit(X_train, Y_train)\n",
    "modelaccuracy(knn_grid_serach)"
   ]
  }
 ],
 "metadata": {
  "kernelspec": {
   "display_name": "Python 3",
   "language": "python",
   "name": "python3"
  },
  "language_info": {
   "codemirror_mode": {
    "name": "ipython",
    "version": 3
   },
   "file_extension": ".py",
   "mimetype": "text/x-python",
   "name": "python",
   "nbconvert_exporter": "python",
   "pygments_lexer": "ipython3",
   "version": "3.12.3"
  }
 },
 "nbformat": 4,
 "nbformat_minor": 2
}
